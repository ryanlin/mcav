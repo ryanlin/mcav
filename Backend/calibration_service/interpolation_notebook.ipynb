{
 "cells": [
  {
   "cell_type": "code",
   "execution_count": 1,
   "metadata": {},
   "outputs": [],
   "source": [
    "import numpy as np\n",
    "import matplotlib.pyplot as plt\n",
    "from mpl_toolkits.mplot3d import Axes3D\n",
    "import ipywidgets as widgets\n",
    "%matplotlib widget\n",
    "\n",
    "import poses.utils.lie_groups.SE3 as SE3\n",
    "import poses.utils.lie_groups.se3 as se3"
   ]
  },
  {
   "cell_type": "markdown",
   "metadata": {},
   "source": [
    "Right-hand convention"
   ]
  },
  {
   "cell_type": "code",
   "execution_count": 2,
   "metadata": {},
   "outputs": [],
   "source": [
    "def interpolate_pose(pose1: np.ndarray, pose2: np.ndarray, t: float) -> np.ndarray:\n",
    "    assert pose1.shape == (4, 4)\n",
    "    assert pose2.shape == (4, 4)\n",
    "\n",
    "    return pose1 @ se3.exp(t * SE3.log(SE3.inverse(pose1) @ pose2))"
   ]
  },
  {
   "cell_type": "code",
   "execution_count": 3,
   "metadata": {},
   "outputs": [],
   "source": [
    "def interpolate_covariances(cov1: np.ndarray, cov2: np.ndarray, t: float) -> np.ndarray:\n",
    "    assert type(cov1) is type(cov2)\n",
    "    assert t >= 0.0 and t <= 1.0\n",
    "\n",
    "    if isinstance(cov1, np.ndarray):\n",
    "        return __exp_covariance((1 - t) * __log_covariance(cov1) + t * __log_covariance(cov2))\n",
    "    elif isinstance(cov1, float):\n",
    "        return (1 - t) * cov1 + t * cov2\n",
    "    else:\n",
    "        print(\"Covariance can only be float or numpy array\")\n",
    "        raise\n",
    "\n",
    "\n",
    "def __log_covariance(cov: np.ndarray) -> np.ndarray:\n",
    "    w, v = np.linalg.eig(cov)\n",
    "    return v @ np.diag(np.log(w)) @ v.T\n",
    "\n",
    "\n",
    "def __exp_covariance(algebra: np.ndarray) -> np.ndarray:\n",
    "    w, v = np.linalg.eig(algebra)\n",
    "    return v @ np.diag(np.exp(w)) @ v.T"
   ]
  },
  {
   "cell_type": "code",
   "execution_count": 4,
   "metadata": {},
   "outputs": [
    {
     "name": "stdout",
     "output_type": "stream",
     "text": [
      "[[1. 0. 0. 0.]\n",
      " [0. 1. 0. 0.]\n",
      " [0. 0. 1. 0.]\n",
      " [0. 0. 0. 1.]]\n"
     ]
    }
   ],
   "source": [
    "start = SE3.inverse(np.eye(4)); print(start)"
   ]
  },
  {
   "cell_type": "code",
   "execution_count": 5,
   "metadata": {},
   "outputs": [
    {
     "name": "stdout",
     "output_type": "stream",
     "text": [
      "[[ 0.  1.  0. -1.]\n",
      " [-1.  0.  0.  1.]\n",
      " [ 0.  0.  1.  0.]\n",
      " [ 0.  0.  0.  1.]]\n"
     ]
    }
   ],
   "source": [
    "end = SE3.inverse(np.array([\n",
    "    [0.0, -1.0, 0.0, 1.0],\n",
    "    [1.0, 0.0, 0.0, 1.0],\n",
    "    [0.0, 0.0, 1.0, 0.0],\n",
    "    [0.0, 0.0, 0.0, 1.0]\n",
    "])); print(end)"
   ]
  },
  {
   "cell_type": "code",
   "execution_count": 6,
   "metadata": {},
   "outputs": [
    {
     "name": "stdout",
     "output_type": "stream",
     "text": [
      "[[0.1 0.  0.  0.  0.  0. ]\n",
      " [0.  0.1 0.  0.  0.  0. ]\n",
      " [0.  0.  0.1 0.  0.  0. ]\n",
      " [0.  0.  0.  0.1 0.  0. ]\n",
      " [0.  0.  0.  0.  0.1 0. ]\n",
      " [0.  0.  0.  0.  0.  0.1]]\n"
     ]
    }
   ],
   "source": [
    "start_cov = np.eye(6) * 0.1; print(start_cov)"
   ]
  },
  {
   "cell_type": "code",
   "execution_count": 7,
   "metadata": {},
   "outputs": [
    {
     "name": "stdout",
     "output_type": "stream",
     "text": [
      "[[0.4 0.  0.  0.  0.  0. ]\n",
      " [0.  0.4 0.  0.  0.  0. ]\n",
      " [0.  0.  0.4 0.  0.  0. ]\n",
      " [0.  0.  0.  0.4 0.  0. ]\n",
      " [0.  0.  0.  0.  0.4 0. ]\n",
      " [0.  0.  0.  0.  0.  0.4]]\n"
     ]
    }
   ],
   "source": [
    "end_cov = np.eye(6) * 0.4\n",
    "print(end_cov)"
   ]
  },
  {
   "cell_type": "code",
   "execution_count": 8,
   "metadata": {},
   "outputs": [],
   "source": [
    "def plot_pose(ax, trajectory, orientation):\n",
    "    ax.scatter(trajectory[0],\n",
    "               trajectory[1],\n",
    "               trajectory[2])\n",
    "    ax.quiver(trajectory[0], trajectory[1], trajectory[2], \n",
    "              orientation[0], orientation[1], orientation[2], \n",
    "              length=0.3)"
   ]
  },
  {
   "cell_type": "code",
   "execution_count": 9,
   "metadata": {},
   "outputs": [],
   "source": [
    "def plot_covariance(ax, translation_cov, position):\n",
    "    coefs = 1 / translation_cov  # Coefficients in a0/c x**2 + a1/c y**2 + a2/c z**2 = 1 \n",
    "    # Radii corresponding to the coefficients:\n",
    "    rx, ry, rz = 1/(np.pi * np.sqrt(coefs))\n",
    "\n",
    "    # Set of all spherical angles:\n",
    "    u = np.linspace(0, 2 * np.pi, 100)\n",
    "    v = np.linspace(0, np.pi, 100)\n",
    "\n",
    "    # Cartesian coordinates that correspond to the spherical angles:\n",
    "    # (this is the equation of an ellipsoid):\n",
    "    x = position[0] + rx * np.outer(np.cos(u), np.sin(v))\n",
    "    y = position[1] + ry * np.outer(np.sin(u), np.sin(v))\n",
    "    z = position[2] + rz * np.outer(np.ones_like(u), np.cos(v))\n",
    "\n",
    "    # Plot:\n",
    "    ax.plot_surface(x, y, z,  rstride=4, cstride=4, color='c', alpha=0.35)"
   ]
  },
  {
   "cell_type": "code",
   "execution_count": 11,
   "metadata": {},
   "outputs": [
    {
     "data": {
      "application/vnd.jupyter.widget-view+json": {
       "model_id": "4a3b34bdd3db4c8386b82c868a152fab",
       "version_major": 2,
       "version_minor": 0
      },
      "text/plain": [
       "Canvas(toolbar=Toolbar(toolitems=[('Home', 'Reset original view', 'home', 'home'), ('Back', 'Back to previous …"
      ]
     },
     "metadata": {},
     "output_type": "display_data"
    },
    {
     "data": {
      "application/vnd.jupyter.widget-view+json": {
       "model_id": "fe16a5853867460b8f1380556d33e694",
       "version_major": 2,
       "version_minor": 0
      },
      "text/plain": [
       "interactive(children=(FloatSlider(value=0.0, description='t', max=1.0, step=0.01), Output()), _dom_classes=('w…"
      ]
     },
     "metadata": {},
     "output_type": "display_data"
    }
   ],
   "source": [
    "fig = plt.figure(figsize=plt.figaspect(1))\n",
    "ax = fig.add_subplot(111, projection='3d')\n",
    "\n",
    "@widgets.interact(t=(0.0, 1.0, 0.01))\n",
    "def update(t = 0.0):\n",
    "    interpolated_pose = interpolate_pose(start, end, t)\n",
    "    interpolated_cov = interpolate_covariances(start_cov, end_cov, t)\n",
    "    \n",
    "    print(\"Interpolated pose\")\n",
    "    print(interpolated_pose)\n",
    "    print(\"\\nInterpolated covariance\")\n",
    "    print(interpolated_cov)\n",
    "    \n",
    "    trajectory = SE3.inverse(interpolated_pose)[0:3, 3]\n",
    "    orientation = SE3.inverse(interpolated_pose)[0:3, 1]\n",
    "    translation_covariance = np.array([interpolated_cov[0,0], interpolated_cov[1,1], interpolated_cov[2,2]])\n",
    "    \n",
    "    plt.cla()\n",
    "    ax.set_xlim3d(0, 1)\n",
    "    ax.set_ylim3d(0, 1)\n",
    "    ax.set_zlim3d(0, 1)\n",
    "    ax.set_xlabel('X axis')\n",
    "    ax.set_ylabel('Y axis')\n",
    "    ax.set_zlabel('Z axis')\n",
    "    \n",
    "    plot_pose(ax, trajectory, orientation)\n",
    "    plot_covariance(ax, translation_covariance, trajectory)\n",
    "    \n",
    "    plt.show()"
   ]
  },
  {
   "cell_type": "code",
   "execution_count": null,
   "metadata": {},
   "outputs": [],
   "source": []
  }
 ],
 "metadata": {
  "kernelspec": {
   "display_name": "Python 3",
   "language": "python",
   "name": "python3"
  },
  "language_info": {
   "codemirror_mode": {
    "name": "ipython",
    "version": 3
   },
   "file_extension": ".py",
   "mimetype": "text/x-python",
   "name": "python",
   "nbconvert_exporter": "python",
   "pygments_lexer": "ipython3",
   "version": "3.8.5"
  }
 },
 "nbformat": 4,
 "nbformat_minor": 4
}
